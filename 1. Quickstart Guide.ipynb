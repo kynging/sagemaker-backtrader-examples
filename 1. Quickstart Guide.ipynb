{
 "cells": [
  {
   "cell_type": "markdown",
   "metadata": {},
   "source": [
    "# BackTrader 入门和基本概念介绍\n",
    "\n",
    "在这个 Notebook 中我们会简单介绍 Backtrader 中的整体框架和重要编程概念，并且用一个趋势跟随策略（15日均线）来进行演示。Backtrader是目前功能最完善的Python量化回测框架之一，是一个易懂、易上手的量化投资框架。\n",
    "\n",
    "开始之前，先确保环境中有 Python 和 pip 。建议选择 Python 3 (Data Science) 内核。\n",
    "\n",
    "### 准备工作\n",
    "\n",
    "首先，输入以下命令安装Backtrader模块:"
   ]
  },
  {
   "cell_type": "code",
   "execution_count": null,
   "metadata": {},
   "outputs": [],
   "source": [
    "!pip install backtrader"
   ]
  },
  {
   "cell_type": "markdown",
   "metadata": {},
   "source": [
    "看到 Successfully installed xxx 则说明安装成功。这时可以尝试运行以下代码进行验证："
   ]
  },
  {
   "cell_type": "code",
   "execution_count": null,
   "metadata": {},
   "outputs": [],
   "source": [
    "import backtrader as bt"
   ]
  },
  {
   "cell_type": "markdown",
   "metadata": {},
   "source": [
    "SageMaker Studio 中的默认路径是/root。在开始之前，我们先将当前路径加入环境变量："
   ]
  },
  {
   "cell_type": "code",
   "execution_count": null,
   "metadata": {},
   "outputs": [],
   "source": [
    "import sys\n",
    "\n",
    "directory = '/root/sagemaker-backtrader'\n",
    "if directory not in sys.path:\n",
    "    sys.path.append(directory)"
   ]
  },
  {
   "cell_type": "markdown",
   "metadata": {},
   "source": [
    "### BackTrader 入门\n",
    "\n",
    "接下来我们将尝试编写并运行一个Backtrader回测程序。BackTrader的回测程序主要包括以下几个组成部分：\n",
    "\n",
    "  - 数据加载（Data Feed）：将交易策略的数据加载到回测框架中。\n",
    "  - 交易策略（Strategy）：最核心的交易算法部分，需要设计交易决策，生成买卖信号。 \n",
    "  - 回测框架设置和运行（Cerebro）：需要设置初始资金、佣金比例、数据馈送、交易策略、交易头寸大小等。随后运行Cerebro回测并打印出所有已执行的交易。\n",
    "  - 评估结果（Analyzers）:以图形和风险收益等指标对交易策略的回测结果进行评价。\n",
    "\n",
    "对于每个组件部分的详细介绍，将在下个Notebook中进行介绍。"
   ]
  },
  {
   "cell_type": "markdown",
   "metadata": {},
   "source": [
    "#### 一、数据加载\n",
    "\n",
    "在 Backtrader 平台中，回测数据由 Lines 类进行表示。回测数据通常包含数个完整的时间序列，通常包括以下数据列：Open（开盘价）, High（最高价）, Low（最低价）, Close（收盘价）, Volume（成交量）, OpenInterest。Data Feeds（数据加载）、Indicators（技术指标）和Strategies（策略）都会生成 Lines，每个 Lines 类可以包含多个 line series 时间序列。在下面的示例中，我们将通过 DataFrame 作为数据源创建一个 Data Feed，并且创建一个名为 SMA（均线）的技术指标。\n",
    "\n",
    "首先，通过以下代码创建一个向Athena提交查询请求的函数："
   ]
  },
  {
   "cell_type": "code",
   "execution_count": null,
   "metadata": {},
   "outputs": [],
   "source": [
    "%%writefile {directory}/data_util.py\n",
    "import boto3\n",
    "import datetime\n",
    "import matplotlib\n",
    "import matplotlib.pyplot as plt\n",
    "import matplotlib.dates as mdates\n",
    "import matplotlib.lines as lines\n",
    "import matplotlib.patches as patches\n",
    "import pandas as pd\n",
    "import time\n",
    "\n",
    "\n",
    "# 从 Athena 中调取数据的函数\n",
    "def get_query_result(QueryString):\n",
    " \n",
    "    athena = boto3.client('athena')\n",
    "    s3 = boto3.client('s3')\n",
    "\n",
    "    def execute_query(QueryString):\n",
    "\n",
    "        ResultConfiguration = dict([])\n",
    "        ResultConfiguration['OutputLocation'] = 's3://athena-output-cache/'\n",
    "        response = athena.start_query_execution(QueryString=QueryString, ResultConfiguration=ResultConfiguration)\n",
    "        QueryExecutionId = response['QueryExecutionId']\n",
    "\n",
    "        flag = True\n",
    "        while flag:\n",
    "            response = athena.get_query_execution(QueryExecutionId=QueryExecutionId)\n",
    "            if response['QueryExecution']['Status']['State'] == 'SUCCEEDED':\n",
    "                flag = False\n",
    "                OutputLocation = response['QueryExecution']['ResultConfiguration']['OutputLocation']\n",
    "                return OutputLocation\n",
    "            elif response['QueryExecution']['Status']['State'] == 'FAILED':\n",
    "                flag = False\n",
    "                print(response['QueryExecution']['Status'])\n",
    "                return\n",
    "            else:\n",
    "                time.sleep(0.5)\n",
    "\n",
    "    output_location = execute_query(QueryString)\n",
    "#     print(output_location)\n",
    "    response = s3.get_object(Bucket='athena-output-cache', Key=output_location.split('/')[-1])\n",
    "    df = pd.read_csv(response['Body'])\n",
    "    \n",
    "    return df\n",
    "\n",
    "\n",
    "# 画 K 线图的函数\n",
    "def plot_candle_stick(prices):\n",
    "\n",
    "    n = len(prices)\n",
    "    \n",
    "    fig = plt.figure(figsize=(20, 12))\n",
    "\n",
    "    ax = fig.add_axes([0.1, 0.15, 0.8, 0.7])\n",
    "    ax.set_facecolor('black')\n",
    "    ax.set_axisbelow(True)\n",
    "\n",
    "    ax.grid(False, axis='x')\n",
    "    ax.grid(True, axis='y')\n",
    "    ax.set_xlim(-1, n)\n",
    "    ax.set_ylim(min(prices['low']) * 0.97, max(prices['high']) * 1.03)\n",
    "    ax.set_xticks(range(0, n, max(int(n / 10), 1)))\n",
    "    ax.set_xticklabels([prices.index.tolist()[index] for index in ax.get_xticks()])\n",
    "\n",
    "    for i in range(0, n):\n",
    "        openPrice = prices['open'].iloc[i]\n",
    "        closePrice = prices['close'].iloc[i]\n",
    "        highPrice = prices['high'].iloc[i]\n",
    "        lowPrice = prices['low'].iloc[i]\n",
    "        if closePrice > openPrice:\n",
    "            ax.add_patch(\n",
    "                patches.Rectangle((i - 0.2, openPrice), 0.4, closePrice - openPrice, fill=False, color='r'))\n",
    "            ax.plot([i, i], [lowPrice, openPrice], 'r')\n",
    "            ax.plot([i, i], [closePrice, highPrice], 'r')\n",
    "        else:\n",
    "            ax.add_patch(patches.Rectangle((i - 0.2, openPrice), 0.4, closePrice - openPrice, color='c'))\n",
    "            ax.plot([i, i], [lowPrice, highPrice], color='c')\n",
    "            \n",
    "    return fig"
   ]
  },
  {
   "cell_type": "markdown",
   "metadata": {},
   "source": [
    "通过调用这个函数，我们可以用 SQL 语句查询之前存放在 S3 和 Glue 的数据。以下的SQL语句将调取贵州茅台（600519）自2018年年初到数据截止日的开盘价、收盘价、最高价、最低价、成交量、当日是否开盘和复权因子。随后我们将存放在 S3 的 CSV 查询结果加载为一个 Pandas DataFrame："
   ]
  },
  {
   "cell_type": "code",
   "execution_count": null,
   "metadata": {},
   "outputs": [],
   "source": [
    "from data_util import get_query_result\n",
    "\n",
    "database = 'stock-data-demo'\n",
    "table = 'stock_day'\n",
    "fields = 'ticker,tradedate,openprice,closeprice,highestprice,lowestprice,turnovervol,isopen,accumadjfactor'\n",
    "ticker = '600519'\n",
    "orderby = 'tradedate'\n",
    "sort = 'ASC'\n",
    "\n",
    "query_string = f'''\n",
    "SELECT DISTINCT {fields}\n",
    "FROM \"{database}\".\"{table}\"\n",
    "WHERE ticker='{ticker}'\n",
    "AND tradedate>='2019-01-01'\n",
    "ORDER BY {orderby}\n",
    "{sort}\n",
    "'''\n",
    "\n",
    "df = get_query_result(query_string)\n",
    "df.head()"
   ]
  },
  {
   "cell_type": "markdown",
   "metadata": {},
   "source": [
    "因为原始数据包含的是未复权过的价格，对于大多数回测任务而言，需要修正派息等事件对股票价格的影响。因此接下来首先需要对开盘价、收盘价、最高价、最低价进行复权，同时根据isopen条件筛选出开盘的交易日："
   ]
  },
  {
   "cell_type": "code",
   "execution_count": null,
   "metadata": {},
   "outputs": [],
   "source": [
    "df['ticker'] = df['ticker'].apply(lambda x: str(x))\n",
    "df['ticker'] = df['ticker'].apply(lambda x: '0'*(6-len(x)) + x)\n",
    "df['openprice'] = df['openprice'] * df['accumadjfactor'] / df['accumadjfactor'].iloc[-1]\n",
    "df['closeprice'] = df['closeprice'] * df['accumadjfactor'] / df['accumadjfactor'].iloc[-1]\n",
    "df['highestprice'] = df['highestprice'] * df['accumadjfactor'] / df['accumadjfactor'].iloc[-1]\n",
    "df['lowestprice'] = df['lowestprice'] * df['accumadjfactor'] / df['accumadjfactor'].iloc[-1]\n",
    "df = df[df['isopen'] == True]\n",
    "df.drop('isopen', 1, inplace=True)\n",
    "df.drop('accumadjfactor', 1, inplace=True)\n",
    "df.set_index('tradedate', inplace=True)\n",
    "\n",
    "# Backtrader 对每种数据的来源都有一定的标准，最好先将 pandas 中的数据列命名为标准格式\n",
    "df.rename(columns={'openprice': 'open'}, inplace=True)\n",
    "df.rename(columns={'closeprice': 'close'}, inplace=True)\n",
    "df.rename(columns={'highestprice': 'high'}, inplace=True)\n",
    "df.rename(columns={'lowestprice': 'low'}, inplace=True)\n",
    "df.rename(columns={'turnovervol': 'volume'}, inplace=True)\n",
    "df['openinterest'] = 0 # A股中一般并不考虑 interest 这一概念，先设为零"
   ]
  },
  {
   "cell_type": "markdown",
   "metadata": {},
   "source": [
    "对DataFrame不太熟悉的朋友可能会觉得不太直观。如果有必要我们可以先简单勾画一下这支股票的K线图："
   ]
  },
  {
   "cell_type": "code",
   "execution_count": null,
   "metadata": {},
   "outputs": [],
   "source": [
    "from data_util import plot_candle_stick\n",
    "            \n",
    "fig = plot_candle_stick(df)"
   ]
  },
  {
   "cell_type": "markdown",
   "metadata": {},
   "source": [
    "#### 二、交易策略\n",
    "\n",
    "交易策略即交易执行所需的核心逻辑。在Backtrader中，交易策略由backtrader.Strategy类进行定义。交易策略中一般至少需要定义以下代码：\n",
    "\n",
    "\n",
    "1、全局参数。全局参数是在策略中通过tuples或dict定义的值。在这个策略中我们只设定了一个maperiod（均线周期）值为15。\n",
    "\n",
    "2、初始化。Python中类的constructor由__init__()来定义。Backtrader中的交易策略是一个backtrader.Strategy类。\n",
    "\n",
    "3、策略核心逻辑。以下策略模块的核心在next()函数中进行定义。该模块包含了执行买卖交易指令的条件。通常来讲策略必须在每个周期开始时进行持仓检查、可用资金检查、指令成交状态检查等，因此必须包含一些if/else条件作为基础。以下的示例中只包含了一个15日均线的判断条件：如果股价突破15日均线则买入，跌破15日均线则卖出。\n",
    "\n",
    "4、记录日志（可选）。通常来讲策略执行中需要记录持仓、可用资金、逐笔交易的手续费和收益等日志指标，以方便回测结束后进行分析。\n"
   ]
  },
  {
   "cell_type": "code",
   "execution_count": null,
   "metadata": {},
   "outputs": [],
   "source": [
    "from datetime import datetime\n",
    "import backtrader as bt\n",
    "\n",
    "class MyStrategy(bt.Strategy):\n",
    "    ## 1、全局参数\n",
    "    params=(('maperiod', 15),\n",
    "            ('printlog', False),)\n",
    "\n",
    "    ## 2、初始化\n",
    "    def __init__(self):\n",
    "\n",
    "        # 初始化交易指令、买卖价格和手续费\n",
    "        self.order = None\n",
    "        self.buyprice = None\n",
    "        self.buycomm = None\n",
    "        self.size = 80\n",
    "\n",
    "        # 添加15日移动均线指标。Backtrader 集成了 talib，可以自动算出一些常见的技术指标\n",
    "        self.sma = bt.indicators.SimpleMovingAverage(self.datas[0], period=self.params.maperiod)\n",
    "\n",
    "    ## 3、策略核心逻辑\n",
    "    def next(self):\n",
    "        # 记录收盘价\n",
    "#         self.log('收盘价：%.2f' % self.datas[0].close[0])\n",
    "        if self.order: # 检查是否有指令等待执行\n",
    "            return\n",
    "        # 检查是否持仓   \n",
    "        if not self.position: # 没有持仓\n",
    "            # 执行买入条件判断：收盘价格上涨突破15日均线\n",
    "            if self.datas[0].close > self.sma[0]:\n",
    "                self.log('买入：%.2f' % self.datas[0].close[0])\n",
    "                #执行买入\n",
    "                self.order = self.buy(size=self.size)\n",
    "        else:\n",
    "            # 执行卖出条件判断：收盘价格跌破15日均线\n",
    "            if self.datas[0].close < self.sma[0]:\n",
    "                self.log('卖出：%.2f' % self.datas[0].close[0])\n",
    "                #执行卖出\n",
    "                self.order = self.sell(size=self.size)\n",
    "\n",
    "    ## 4、日志记录\n",
    "    # 交易记录日志（可选，默认不输出结果）\n",
    "    def log(self, txt, dt=None, doprint=False):\n",
    "        if self.params.printlog or doprint:\n",
    "            dt = dt or self.datas[0].datetime.date(0)\n",
    "            print(f'{dt.isoformat()},{txt}')\n",
    "\n",
    "    # 记录交易执行情况（可选，默认不输出结果）\n",
    "    def notify_order(self, order):\n",
    "        # 如果 order 为 submitted/accepted，返回空\n",
    "        if order.status in [order.Submitted, order.Accepted]:\n",
    "            return\n",
    "        # 如果 order 为 buy/sell executed，报告价格结果\n",
    "        if order.status in [order.Completed]: \n",
    "            if order.isbuy():\n",
    "                self.log(f'买入：\\n价格：%.2f,\\\n",
    "                交易金额：-%.2f,\\\n",
    "                手续费：%.2f' % (order.executed.price, order.executed.value, order.executed.comm))\n",
    "                self.buyprice = order.executed.price\n",
    "                self.buycomm = order.executed.comm\n",
    "            else:\n",
    "                self.log(f'卖出:\\n价格：%.2f,\\\n",
    "                交易金额：%.2f,\\\n",
    "                手续费：%.2f' % (order.executed.price, order.executed.price*self.size, order.executed.comm))\n",
    "            self.bar_executed = len(self) \n",
    "\n",
    "        # 如果指令取消/交易失败, 报告结果\n",
    "        elif order.status in [order.Canceled, order.Margin, order.Rejected]:\n",
    "            self.log('交易失败')\n",
    "        self.order = None\n",
    "\n",
    "    # 记录交易收益情况（可省略，默认不输出结果）\n",
    "    def notify_trade(self,trade):\n",
    "        if not trade.isclosed:\n",
    "            return\n",
    "        self.log(f'策略收益：\\n毛收益 {trade.pnl:.2f}, 净收益 {trade.pnlcomm:.2f}')\n",
    "\n",
    "    # 回测结束后输出结果（可省略，默认输出结果）\n",
    "    def stop(self):\n",
    "        self.log('(MA均线： %2d日) 期末总资金 %.2f' %\n",
    "                 (self.params.maperiod, self.broker.getvalue()), doprint=True)"
   ]
  },
  {
   "cell_type": "markdown",
   "metadata": {},
   "source": [
    "#### 三、回测框架设置和运行\n",
    "\n",
    "下面我们将定义一个主函数，用于对某股票（贵州茅台）在指定期间进行回测。\n",
    "\n",
    "该程序将使用我们之前在Athena准备好的接口获取数据。获取完的数据将以pandas DataFrame的形式提供给Backtrader，在此我们可以使用之前准备好的DataFrame："
   ]
  },
  {
   "cell_type": "code",
   "execution_count": null,
   "metadata": {},
   "outputs": [],
   "source": [
    "from __future__ import (absolute_import, division, print_function,\n",
    "                        unicode_literals)\n",
    "\n",
    "import datetime\n",
    "import numpy as np\n",
    "import pandas as pd\n",
    "import os.path\n",
    "import sys\n",
    "\n",
    "import backtrader as bt\n",
    "\n",
    "if __name__ == '__main__':\n",
    "    # 创建 Cerebro 对象\n",
    "    cerebro = bt.Cerebro()\n",
    "\n",
    "    # 创建 Data Feed\n",
    "    df.index = pd.to_datetime(df.index)\n",
    "    start = df.index[0]\n",
    "    end = df.index[-1]\n",
    "    print(start, '-', end)\n",
    "    data = bt.feeds.PandasData(dataname=df, fromdate=start, todate=end)\n",
    "    # 将 Data Feed 添加至 Cerebro\n",
    "    cerebro.adddata(data)\n",
    "\n",
    "    # 添加策略 Cerebro\n",
    "    cerebro.addstrategy(MyStrategy, maperiod=15, printlog=True)\n",
    "    \n",
    "    # 设置初始资金\n",
    "    cerebro.broker.setcash(100000.0)\n",
    "    # 设置手续费为万二\n",
    "    cerebro.broker.setcommission(commission=0.0002) \n",
    "\n",
    "    # 在开始时 print 初始账户价值\n",
    "    print('Starting Portfolio Value: %.2f' % cerebro.broker.getvalue())\n",
    "\n",
    "    # 运行回测流程\n",
    "    cerebro.run()\n",
    "\n",
    "    # 在结束时 print 最终账户价值\n",
    "    print('Final Portfolio Value: %.2f' % cerebro.broker.getvalue())"
   ]
  },
  {
   "cell_type": "markdown",
   "metadata": {},
   "source": [
    "#### 四、结果的可视化\n",
    "\n",
    "我们可以看到策略在执行后获得了20%左右的收益。Backtrader 还提供了画图功能："
   ]
  },
  {
   "cell_type": "code",
   "execution_count": null,
   "metadata": {},
   "outputs": [],
   "source": [
    "cerebro.plot(iplot=False)"
   ]
  },
  {
   "cell_type": "markdown",
   "metadata": {},
   "source": [
    "上图中最上面的蓝色和红色实线分别代表账户价值和现金。往下的红色和蓝色点位分别表示买入和卖出产生的现金流。再往下的黑色实线代表价格曲线，红色实线代表15日均线，绿色和红色箭头分别代表买入和卖出点位。最下面的柱状图代表当日的成交量。\n",
    "\n",
    "\n",
    "在完成此Notebook之后您应该对Backtrader有了一些基本了解。接下来的Notebook将对一些平台基本概念作出详细解释，并且结合AWS SageMaker的机器学习能力进行更加深入的策略研究。"
   ]
  }
 ],
 "metadata": {
  "instance_type": "ml.t3.medium",
  "kernelspec": {
   "display_name": "Python 3 (Data Science)",
   "language": "python",
   "name": "python3__SAGEMAKER_INTERNAL__arn:aws:sagemaker:cn-northwest-1:390780980154:image/datascience-1.0"
  },
  "language_info": {
   "codemirror_mode": {
    "name": "ipython",
    "version": 3
   },
   "file_extension": ".py",
   "mimetype": "text/x-python",
   "name": "python",
   "nbconvert_exporter": "python",
   "pygments_lexer": "ipython3",
   "version": "3.7.6"
  }
 },
 "nbformat": 4,
 "nbformat_minor": 4
}
